{
 "cells": [
  {
   "cell_type": "code",
   "execution_count": 3,
   "metadata": {},
   "outputs": [],
   "source": [
    "import pandas as pd\n",
    "import numpy as np"
   ]
  },
  {
   "cell_type": "code",
   "execution_count": 4,
   "metadata": {},
   "outputs": [],
   "source": [
    "file = '..//data//nsduh_reduced.csv'\n",
    "main_data = pd.read_csv(file, sep=',')"
   ]
  },
  {
   "cell_type": "code",
   "execution_count": 5,
   "metadata": {},
   "outputs": [],
   "source": [
    "from sklearn.model_selection import train_test_split"
   ]
  },
  {
   "cell_type": "code",
   "execution_count": 6,
   "metadata": {},
   "outputs": [],
   "source": [
    "x = main_data.drop('CATEGORY',axis=1)\n",
    "y = main_data['CATEGORY']\n",
    "x_train, x_test, y_train, y_test = train_test_split(x, y, test_size=0.3, random_state=121)"
   ]
  },
  {
   "cell_type": "code",
   "execution_count": 7,
   "metadata": {},
   "outputs": [
    {
     "data": {
      "text/plain": [
       "{0: Int64Index([44430, 12595, 22049, 44109, 54722, 19345, 18298, 41801, 38675,\n",
       "             17793,\n",
       "             ...\n",
       "              4391,  8678, 48111, 32820, 33716, 19198, 30754, 36351, 37333,\n",
       "             11586],\n",
       "            dtype='int64', length=15619),\n",
       " 1: Int64Index([51587, 47581, 42403, 12862, 14754, 14676, 28945,  6922, 52089,\n",
       "             31177,\n",
       "             ...\n",
       "              9523, 30558, 25399,  7225, 44547, 22582, 29280, 24915, 54964,\n",
       "             28148],\n",
       "            dtype='int64', length=13631),\n",
       " 2: Int64Index([53020,  9654, 37439, 26126, 39541, 32172, 50856, 41209,  6069,\n",
       "              8217,\n",
       "             ...\n",
       "             49037, 22388, 29651,  9944,  1099,  4073, 31710, 43068, 26670,\n",
       "             51265],\n",
       "            dtype='int64', length=10143)}"
      ]
     },
     "execution_count": 7,
     "metadata": {},
     "output_type": "execute_result"
    }
   ],
   "source": [
    "df_train = pd.DataFrame(y_train)\n",
    "df_train.groupby('CATEGORY').groups"
   ]
  },
  {
   "cell_type": "code",
   "execution_count": 8,
   "metadata": {},
   "outputs": [
    {
     "data": {
      "text/plain": [
       "{0: Int64Index([15799, 56103,  1467, 34251, 19068, 18303,   923, 14793, 30893,\n",
       "             14536,\n",
       "             ...\n",
       "             28425, 22669, 17998, 33849, 12126, 54186,  9210,  4956, 21587,\n",
       "             21983],\n",
       "            dtype='int64', length=6682),\n",
       " 1: Int64Index([ 9775, 37099, 37773,  8448,  3983,  9358, 43563, 41980, 38819,\n",
       "             43761,\n",
       "             ...\n",
       "             53560,   263, 23343, 40054, 40423, 15142, 44357, 48249, 55547,\n",
       "              5449],\n",
       "            dtype='int64', length=5836),\n",
       " 2: Int64Index([48808,  4933,  9854, 25010, 37427, 18427, 45253, 48709, 48191,\n",
       "             29866,\n",
       "             ...\n",
       "             16669, 51597, 20009,  5990, 36641, 25520, 30348, 38952, 46361,\n",
       "             36042],\n",
       "            dtype='int64', length=4365)}"
      ]
     },
     "execution_count": 8,
     "metadata": {},
     "output_type": "execute_result"
    }
   ],
   "source": [
    "df_test = pd.DataFrame(y_test)\n",
    "df_test.groupby('CATEGORY').groups"
   ]
  },
  {
   "cell_type": "code",
   "execution_count": 9,
   "metadata": {},
   "outputs": [],
   "source": [
    "from sklearn.svm import SVC"
   ]
  },
  {
   "cell_type": "code",
   "execution_count": 10,
   "metadata": {},
   "outputs": [
    {
     "name": "stderr",
     "output_type": "stream",
     "text": [
      "C:\\Users\\Daria\\Anaconda3\\lib\\site-packages\\sklearn\\svm\\base.py:196: FutureWarning: The default value of gamma will change from 'auto' to 'scale' in version 0.22 to account better for unscaled features. Set gamma explicitly to 'auto' or 'scale' to avoid this warning.\n",
      "  \"avoid this warning.\", FutureWarning)\n"
     ]
    }
   ],
   "source": [
    "svc_model = SVC()\n",
    "svc_model.fit(x_train,y_train)\n",
    "predictions = svc_model.predict(x_test)"
   ]
  },
  {
   "cell_type": "code",
   "execution_count": 11,
   "metadata": {},
   "outputs": [],
   "source": [
    "from sklearn.metrics import classification_report,confusion_matrix"
   ]
  },
  {
   "cell_type": "code",
   "execution_count": 12,
   "metadata": {},
   "outputs": [
    {
     "name": "stdout",
     "output_type": "stream",
     "text": [
      "[[2912 3770    0]\n",
      " [  18 5805   13]\n",
      " [   1 4354   10]]\n",
      "              precision    recall  f1-score   support\n",
      "\n",
      "           0       0.99      0.44      0.61      6682\n",
      "           1       0.42      0.99      0.59      5836\n",
      "           2       0.43      0.00      0.00      4365\n",
      "\n",
      "   micro avg       0.52      0.52      0.52     16883\n",
      "   macro avg       0.62      0.48      0.40     16883\n",
      "weighted avg       0.65      0.52      0.44     16883\n",
      "\n"
     ]
    }
   ],
   "source": [
    "print(confusion_matrix(y_test,predictions))\n",
    "print(classification_report(y_test,predictions))"
   ]
  },
  {
   "cell_type": "code",
   "execution_count": 14,
   "metadata": {},
   "outputs": [],
   "source": [
    "score = svc_model.score(x_test,y_test)"
   ]
  },
  {
   "cell_type": "code",
   "execution_count": 15,
   "metadata": {},
   "outputs": [
    {
     "data": {
      "text/plain": [
       "0.5169105016880886"
      ]
     },
     "execution_count": 15,
     "metadata": {},
     "output_type": "execute_result"
    }
   ],
   "source": [
    "score"
   ]
  }
 ],
 "metadata": {
  "kernelspec": {
   "display_name": "Python 3",
   "language": "python",
   "name": "python3"
  },
  "language_info": {
   "codemirror_mode": {
    "name": "ipython",
    "version": 3
   },
   "file_extension": ".py",
   "mimetype": "text/x-python",
   "name": "python",
   "nbconvert_exporter": "python",
   "pygments_lexer": "ipython3",
   "version": "3.7.1"
  }
 },
 "nbformat": 4,
 "nbformat_minor": 2
}
